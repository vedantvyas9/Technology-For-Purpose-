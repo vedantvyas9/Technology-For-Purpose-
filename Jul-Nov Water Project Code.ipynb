{
 "cells": [
  {
   "cell_type": "code",
   "execution_count": 1,
   "id": "9c55c338",
   "metadata": {},
   "outputs": [],
   "source": [
    "import pandas as pd\n"
   ]
  },
  {
   "cell_type": "code",
   "execution_count": 2,
   "id": "49d9b632",
   "metadata": {},
   "outputs": [],
   "source": [
    "import seaborn as sns"
   ]
  },
  {
   "cell_type": "code",
   "execution_count": 3,
   "id": "227b461b",
   "metadata": {},
   "outputs": [],
   "source": [
    "from matplotlib import pyplot as plt"
   ]
  },
  {
   "cell_type": "code",
   "execution_count": 4,
   "id": "11b00dea",
   "metadata": {},
   "outputs": [],
   "source": [
    "import numpy as np\n",
    "import texttable\n",
    "from tabulate import tabulate"
   ]
  },
  {
   "cell_type": "code",
   "execution_count": 39,
   "id": "8b9ef6c6",
   "metadata": {},
   "outputs": [
    {
     "data": {
      "text/html": [
       "<div>\n",
       "<style scoped>\n",
       "    .dataframe tbody tr th:only-of-type {\n",
       "        vertical-align: middle;\n",
       "    }\n",
       "\n",
       "    .dataframe tbody tr th {\n",
       "        vertical-align: top;\n",
       "    }\n",
       "\n",
       "    .dataframe thead th {\n",
       "        text-align: right;\n",
       "    }\n",
       "</style>\n",
       "<table border=\"1\" class=\"dataframe\">\n",
       "  <thead>\n",
       "    <tr style=\"text-align: right;\">\n",
       "      <th></th>\n",
       "      <th>Villa No.July</th>\n",
       "      <th>July Water Reading</th>\n",
       "      <th>Villa No. Aug</th>\n",
       "      <th>Aug Water Reading</th>\n",
       "      <th>Villa No. Sep</th>\n",
       "      <th>Sep Water Reading</th>\n",
       "      <th>Villa No. Oct</th>\n",
       "      <th>Oct Water Reading</th>\n",
       "      <th>Villa No. Nov</th>\n",
       "      <th>DIFF</th>\n",
       "      <th>Villa No. Jun</th>\n",
       "      <th>Jun Water Reading</th>\n",
       "    </tr>\n",
       "  </thead>\n",
       "  <tbody>\n",
       "    <tr>\n",
       "      <th>0</th>\n",
       "      <td>1.0</td>\n",
       "      <td>0.0</td>\n",
       "      <td>1</td>\n",
       "      <td>0.0</td>\n",
       "      <td>1</td>\n",
       "      <td>0</td>\n",
       "      <td>1</td>\n",
       "      <td>0.0</td>\n",
       "      <td>1</td>\n",
       "      <td>0</td>\n",
       "      <td>1</td>\n",
       "      <td>0.0</td>\n",
       "    </tr>\n",
       "    <tr>\n",
       "      <th>1</th>\n",
       "      <td>2.0</td>\n",
       "      <td>20.0</td>\n",
       "      <td>2</td>\n",
       "      <td>11.0</td>\n",
       "      <td>2</td>\n",
       "      <td>11</td>\n",
       "      <td>2</td>\n",
       "      <td>16.0</td>\n",
       "      <td>2</td>\n",
       "      <td>13</td>\n",
       "      <td>2</td>\n",
       "      <td>15.0</td>\n",
       "    </tr>\n",
       "    <tr>\n",
       "      <th>2</th>\n",
       "      <td>3.0</td>\n",
       "      <td>6.0</td>\n",
       "      <td>3</td>\n",
       "      <td>20.0</td>\n",
       "      <td>3</td>\n",
       "      <td>31</td>\n",
       "      <td>3</td>\n",
       "      <td>38.0</td>\n",
       "      <td>3</td>\n",
       "      <td>31</td>\n",
       "      <td>3</td>\n",
       "      <td>2.0</td>\n",
       "    </tr>\n",
       "    <tr>\n",
       "      <th>3</th>\n",
       "      <td>4.0</td>\n",
       "      <td>23.0</td>\n",
       "      <td>4</td>\n",
       "      <td>38.0</td>\n",
       "      <td>4</td>\n",
       "      <td>22</td>\n",
       "      <td>4</td>\n",
       "      <td>20.0</td>\n",
       "      <td>4</td>\n",
       "      <td>20</td>\n",
       "      <td>4</td>\n",
       "      <td>22.0</td>\n",
       "    </tr>\n",
       "    <tr>\n",
       "      <th>4</th>\n",
       "      <td>5.0</td>\n",
       "      <td>0.0</td>\n",
       "      <td>5</td>\n",
       "      <td>5.0</td>\n",
       "      <td>5</td>\n",
       "      <td>0</td>\n",
       "      <td>5</td>\n",
       "      <td>10.0</td>\n",
       "      <td>5</td>\n",
       "      <td>9</td>\n",
       "      <td>5</td>\n",
       "      <td>10.0</td>\n",
       "    </tr>\n",
       "    <tr>\n",
       "      <th>...</th>\n",
       "      <td>...</td>\n",
       "      <td>...</td>\n",
       "      <td>...</td>\n",
       "      <td>...</td>\n",
       "      <td>...</td>\n",
       "      <td>...</td>\n",
       "      <td>...</td>\n",
       "      <td>...</td>\n",
       "      <td>...</td>\n",
       "      <td>...</td>\n",
       "      <td>...</td>\n",
       "      <td>...</td>\n",
       "    </tr>\n",
       "    <tr>\n",
       "      <th>692</th>\n",
       "      <td>693.0</td>\n",
       "      <td>88.0</td>\n",
       "      <td>696</td>\n",
       "      <td>17.0</td>\n",
       "      <td>690</td>\n",
       "      <td>21</td>\n",
       "      <td>691</td>\n",
       "      <td>21.0</td>\n",
       "      <td>690</td>\n",
       "      <td>19</td>\n",
       "      <td>NaN</td>\n",
       "      <td>NaN</td>\n",
       "    </tr>\n",
       "    <tr>\n",
       "      <th>693</th>\n",
       "      <td>NaN</td>\n",
       "      <td>NaN</td>\n",
       "      <td>697</td>\n",
       "      <td>49.0</td>\n",
       "      <td>691</td>\n",
       "      <td>15</td>\n",
       "      <td>692</td>\n",
       "      <td>21.0</td>\n",
       "      <td>691</td>\n",
       "      <td>23</td>\n",
       "      <td>NaN</td>\n",
       "      <td>NaN</td>\n",
       "    </tr>\n",
       "    <tr>\n",
       "      <th>694</th>\n",
       "      <td>NaN</td>\n",
       "      <td>NaN</td>\n",
       "      <td>NaN</td>\n",
       "      <td>NaN</td>\n",
       "      <td>692</td>\n",
       "      <td>24</td>\n",
       "      <td>696</td>\n",
       "      <td>21.0</td>\n",
       "      <td>692</td>\n",
       "      <td>22</td>\n",
       "      <td>NaN</td>\n",
       "      <td>NaN</td>\n",
       "    </tr>\n",
       "    <tr>\n",
       "      <th>695</th>\n",
       "      <td>NaN</td>\n",
       "      <td>NaN</td>\n",
       "      <td>NaN</td>\n",
       "      <td>NaN</td>\n",
       "      <td>696</td>\n",
       "      <td>21</td>\n",
       "      <td>697</td>\n",
       "      <td>53.0</td>\n",
       "      <td>696</td>\n",
       "      <td>19</td>\n",
       "      <td>NaN</td>\n",
       "      <td>NaN</td>\n",
       "    </tr>\n",
       "    <tr>\n",
       "      <th>696</th>\n",
       "      <td>NaN</td>\n",
       "      <td>NaN</td>\n",
       "      <td>NaN</td>\n",
       "      <td>NaN</td>\n",
       "      <td>697</td>\n",
       "      <td>52</td>\n",
       "      <td>NaN</td>\n",
       "      <td>NaN</td>\n",
       "      <td>697</td>\n",
       "      <td>43</td>\n",
       "      <td>NaN</td>\n",
       "      <td>NaN</td>\n",
       "    </tr>\n",
       "  </tbody>\n",
       "</table>\n",
       "<p>697 rows × 12 columns</p>\n",
       "</div>"
      ],
      "text/plain": [
       "     Villa No.July  July Water Reading Villa No. Aug  Aug Water Reading  \\\n",
       "0              1.0                 0.0             1                0.0   \n",
       "1              2.0                20.0             2               11.0   \n",
       "2              3.0                 6.0             3               20.0   \n",
       "3              4.0                23.0             4               38.0   \n",
       "4              5.0                 0.0             5                5.0   \n",
       "..             ...                 ...           ...                ...   \n",
       "692          693.0                88.0           696               17.0   \n",
       "693            NaN                 NaN           697               49.0   \n",
       "694            NaN                 NaN           NaN                NaN   \n",
       "695            NaN                 NaN           NaN                NaN   \n",
       "696            NaN                 NaN           NaN                NaN   \n",
       "\n",
       "    Villa No. Sep  Sep Water Reading Villa No. Oct  Oct Water Reading  \\\n",
       "0               1                  0             1                0.0   \n",
       "1               2                 11             2               16.0   \n",
       "2               3                 31             3               38.0   \n",
       "3               4                 22             4               20.0   \n",
       "4               5                  0             5               10.0   \n",
       "..            ...                ...           ...                ...   \n",
       "692           690                 21           691               21.0   \n",
       "693           691                 15           692               21.0   \n",
       "694           692                 24           696               21.0   \n",
       "695           696                 21           697               53.0   \n",
       "696           697                 52           NaN                NaN   \n",
       "\n",
       "    Villa No. Nov  DIFF Villa No. Jun  Jun Water Reading  \n",
       "0               1     0             1                0.0  \n",
       "1               2    13             2               15.0  \n",
       "2               3    31             3                2.0  \n",
       "3               4    20             4               22.0  \n",
       "4               5     9             5               10.0  \n",
       "..            ...   ...           ...                ...  \n",
       "692           690    19           NaN                NaN  \n",
       "693           691    23           NaN                NaN  \n",
       "694           692    22           NaN                NaN  \n",
       "695           696    19           NaN                NaN  \n",
       "696           697    43           NaN                NaN  \n",
       "\n",
       "[697 rows x 12 columns]"
      ]
     },
     "execution_count": 39,
     "metadata": {},
     "output_type": "execute_result"
    }
   ],
   "source": [
    "#Excel File Input\n",
    "dataset = pd.read_excel('/Users/vedantvyas/Desktop/July-November Data.xlsx')\n",
    "dataset"
   ]
  },
  {
   "cell_type": "code",
   "execution_count": 40,
   "id": "6006f702",
   "metadata": {},
   "outputs": [],
   "source": [
    "AVGJUN = dataset['Jun Water Reading'].mean()\n",
    "AVGJUL = dataset['July Water Reading'].mean()\n",
    "AVGAUG = dataset['Aug Water Reading'].mean()\n",
    "AVGSEP = dataset['Sep Water Reading'].mean()\n",
    "AVGOCT = dataset['Oct Water Reading'].mean()\n",
    "AVGNOV = dataset['DIFF'].mean()\n"
   ]
  },
  {
   "cell_type": "code",
   "execution_count": 41,
   "id": "322571fd",
   "metadata": {},
   "outputs": [
    {
     "name": "stdout",
     "output_type": "stream",
     "text": [
      "27.598550724637683\n",
      "26.56854256854257\n",
      "26.927953890489913\n",
      "27.45767575322812\n",
      "25.826149425287355\n",
      "26.061692969870876\n"
     ]
    }
   ],
   "source": [
    "print(AVGJUN)\n",
    "print(AVGJUL)\n",
    "print(AVGAUG)\n",
    "print(AVGSEP)\n",
    "print(AVGOCT)\n",
    "print(AVGNOV)"
   ]
  },
  {
   "cell_type": "code",
   "execution_count": 42,
   "id": "26fbe96e",
   "metadata": {},
   "outputs": [],
   "source": [
    "data = {'June 2021':27.598550724637683,'July 2021':26.56854256854257, 'August 2021':26.927953890489913,'September 2021':27.45767575322812 ,'October 2021':25.826149425287355,'November 2021':26.061692969870876}"
   ]
  },
  {
   "cell_type": "code",
   "execution_count": 43,
   "id": "310d93ac",
   "metadata": {},
   "outputs": [],
   "source": [
    "months = list(data.keys())\n",
    "Averages = list(data.values())"
   ]
  },
  {
   "cell_type": "code",
   "execution_count": 48,
   "id": "7e557d7f",
   "metadata": {},
   "outputs": [
    {
     "data": {
      "image/png": "[encoded data removed]",
      "text/plain": [
       "<Figure size 1440x720 with 1 Axes>"
      ]
     },
     "metadata": {
      "needs_background": "light"
     },
     "output_type": "display_data"
    }
   ],
   "source": [
    "Totalavg = (AVGJUN+AVGJUL+AVGAUG+AVGSEP+AVGOCT+AVGNOV)/6\n",
    "fig = plt.figure(figsize = (20,10))\n",
    "plt.bar(months, Averages, color = 'blue', width = 0.7)\n",
    "plt.ylim(0, 28)\n",
    "plt.xlabel(\"Month\")\n",
    "plt.ylabel(\"Water Reading\")\n",
    "plt.axhline(Totalavg, color = 'red')\n",
    "plt.show()\n"
   ]
  },
  {
   "cell_type": "code",
   "execution_count": 31,
   "id": "bbc212d5",
   "metadata": {},
   "outputs": [
    {
     "name": "stdout",
     "output_type": "stream",
     "text": [
      "301\n",
      "392\n",
      "0\n",
      "43.43434343434344\n",
      "56.56565656565656\n",
      "0.0\n"
     ]
    }
   ],
   "source": [
    "#July\n",
    "Greater_Than_AverageJul = 0\n",
    "Less_Than_AverageJul = 0\n",
    "Equal_To_AverageJul = 0\n",
    "for i in range(0,len(dataset['July Water Reading'])):\n",
    "    if(dataset['July Water Reading'][i] > AVGJUL):\n",
    "        Greater_Than_AverageJul = Greater_Than_AverageJul + 1\n",
    "    elif(dataset['July Water Reading'][i] < AVGJUL):\n",
    "        Less_Than_AverageJul = Less_Than_AverageJul + 1\n",
    "    elif(dataset['July Water Reading'][i] == AVGJUL):\n",
    "        Equal_To_AverageJul = Equal_To_AverageJul + 1\n",
    "Percentage_Greater_Than_AverageJul = ((Greater_Than_AverageJul)/(Greater_Than_AverageJul+Less_Than_AverageJul+Equal_To_AverageJul))*100\n",
    "Percentage_Lesser_Than_AverageJul = ((Less_Than_AverageJul)/(Greater_Than_AverageJul+Less_Than_AverageJul+Equal_To_AverageJul))*100\n",
    "Percentage_Equal_To_AverageJul = ((Equal_To_AverageJul)/(Greater_Than_AverageJul+Less_Than_AverageJul+Equal_To_AverageJul))*100\n",
    "print(Greater_Than_AverageJul)\n",
    "print(Less_Than_AverageJul)\n",
    "print(Equal_To_AverageJul)\n",
    "print(Percentage_Greater_Than_AverageJul)\n",
    "print(Percentage_Lesser_Than_AverageJul)\n",
    "print(Percentage_Equal_To_AverageJul)"
   ]
  },
  {
   "cell_type": "code",
   "execution_count": 32,
   "id": "a9afa4ed",
   "metadata": {},
   "outputs": [
    {
     "name": "stdout",
     "output_type": "stream",
     "text": [
      "325\n",
      "369\n",
      "0\n",
      "46.829971181556196\n",
      "53.170028818443804\n",
      "0.0\n"
     ]
    }
   ],
   "source": [
    "#August\n",
    "Greater_Than_AverageAUG = 0\n",
    "Less_Than_AverageAUG = 0\n",
    "Equal_To_AverageAUG = 0\n",
    "for i in range(0,len(dataset['Aug Water Reading'])):\n",
    "    if(dataset['Aug Water Reading'][i] > AVGAUG):\n",
    "        Greater_Than_AverageAUG = Greater_Than_AverageAUG + 1\n",
    "    elif(dataset['Aug Water Reading'][i] < AVGAUG):\n",
    "        Less_Than_AverageAUG = Less_Than_AverageAUG + 1\n",
    "    elif(dataset['Aug Water Reading'][i] == AVGAUG):\n",
    "        Equal_To_AverageAUG = Equal_To_AverageAUG + 1\n",
    "Percentage_Greater_Than_AverageAUG = ((Greater_Than_AverageAUG)/(Greater_Than_AverageAUG+Less_Than_AverageAUG+Equal_To_AverageAUG))*100\n",
    "Percentage_Lesser_Than_AverageAUG = ((Less_Than_AverageAUG)/(Greater_Than_AverageAUG+Less_Than_AverageAUG+Equal_To_AverageAUG))*100\n",
    "Percentage_Equal_To_AverageAUG = ((Equal_To_AverageAUG)/(Greater_Than_AverageAUG+Less_Than_AverageAUG+Equal_To_AverageAUG))*100\n",
    "print(Greater_Than_AverageAUG)\n",
    "print(Less_Than_AverageAUG)\n",
    "print(Equal_To_AverageAUG)\n",
    "print(Percentage_Greater_Than_AverageAUG)\n",
    "print(Percentage_Lesser_Than_AverageAUG)\n",
    "print(Percentage_Equal_To_AverageAUG)\n"
   ]
  },
  {
   "cell_type": "code",
   "execution_count": 35,
   "id": "da819c36",
   "metadata": {},
   "outputs": [
    {
     "name": "stdout",
     "output_type": "stream",
     "text": [
      "289\n",
      "408\n",
      "0\n",
      "41.46341463414634\n",
      "58.536585365853654\n",
      "0.0\n"
     ]
    }
   ],
   "source": [
    "#September \n",
    "Greater_Than_AverageSEP = 0\n",
    "Less_Than_AverageSEP = 0\n",
    "Equal_To_AverageSEP = 0\n",
    "for i in range(0,len(dataset['Sep Water Reading'])):\n",
    "    if(dataset['Sep Water Reading'][i] > AVGSEP):\n",
    "        Greater_Than_AverageSEP = Greater_Than_AverageSEP + 1\n",
    "    elif(dataset['Sep Water Reading'][i] < AVGSEP):\n",
    "        Less_Than_AverageSEP = Less_Than_AverageSEP + 1\n",
    "    elif(dataset['Sep Water Reading'][i] == AVGSEP):\n",
    "        Equal_To_AverageSEP = Equal_To_AverageSEP + 1\n",
    "Percentage_Greater_Than_AverageSEP = ((Greater_Than_AverageSEP)/(Greater_Than_AverageSEP+Less_Than_AverageSEP+Equal_To_AverageSEP))*100\n",
    "Percentage_Lesser_Than_AverageSEP = ((Less_Than_AverageSEP)/(Greater_Than_AverageSEP+Less_Than_AverageSEP+Equal_To_AverageSEP))*100\n",
    "Percentage_Equal_To_AverageSEP = ((Equal_To_AverageSEP)/(Greater_Than_AverageSEP+Less_Than_AverageSEP+Equal_To_AverageSEP))*100\n",
    "print(Greater_Than_AverageSEP)\n",
    "print(Less_Than_AverageSEP)\n",
    "print(Equal_To_AverageSEP)\n",
    "print(Percentage_Greater_Than_AverageSEP)\n",
    "print(Percentage_Lesser_Than_AverageSEP)\n",
    "print(Percentage_Equal_To_AverageSEP)\n"
   ]
  },
  {
   "cell_type": "code",
   "execution_count": 36,
   "id": "a2da0eea",
   "metadata": {},
   "outputs": [
    {
     "name": "stdout",
     "output_type": "stream",
     "text": [
      "320\n",
      "376\n",
      "0\n",
      "45.97701149425287\n",
      "54.02298850574713\n",
      "0.0\n"
     ]
    }
   ],
   "source": [
    "#October\n",
    "Greater_Than_AverageOCT = 0\n",
    "Less_Than_AverageOCT = 0\n",
    "Equal_To_AverageOCT = 0\n",
    "for i in range(0,len(dataset['Oct Water Reading'])):\n",
    "    if(dataset['Oct Water Reading'][i] > AVGOCT):\n",
    "        Greater_Than_AverageOCT = Greater_Than_AverageOCT + 1\n",
    "    elif(dataset['Oct Water Reading'][i] < AVGOCT):\n",
    "        Less_Than_AverageOCT = Less_Than_AverageOCT + 1\n",
    "    elif(dataset['Oct Water Reading'][i] == AVGOCT):\n",
    "        Equal_To_AverageOCT = Equal_To_AverageOCT + 1\n",
    "Percentage_Greater_Than_AverageOCT = ((Greater_Than_AverageOCT)/(Greater_Than_AverageOCT+Less_Than_AverageOCT+Equal_To_AverageOCT))*100\n",
    "Percentage_Lesser_Than_AverageOCT = ((Less_Than_AverageOCT)/(Greater_Than_AverageOCT+Less_Than_AverageOCT+Equal_To_AverageOCT))*100\n",
    "Percentage_Equal_To_AverageOCT = ((Equal_To_AverageOCT)/(Greater_Than_AverageOCT+Less_Than_AverageOCT+Equal_To_AverageOCT))*100\n",
    "print(Greater_Than_AverageOCT)\n",
    "print(Less_Than_AverageOCT)\n",
    "print(Equal_To_AverageOCT)\n",
    "print(Percentage_Greater_Than_AverageOCT)\n",
    "print(Percentage_Lesser_Than_AverageOCT)\n",
    "print(Percentage_Equal_To_AverageOCT)\n"
   ]
  },
  {
   "cell_type": "code",
   "execution_count": 38,
   "id": "de6bd84a",
   "metadata": {},
   "outputs": [
    {
     "name": "stdout",
     "output_type": "stream",
     "text": [
      "293\n",
      "404\n",
      "0\n",
      "42.03730272596843\n",
      "57.96269727403156\n",
      "0.0\n"
     ]
    }
   ],
   "source": [
    "#November\n",
    "Greater_Than_AverageNOV = 0\n",
    "Less_Than_AverageNOV = 0\n",
    "Equal_To_AverageNOV = 0\n",
    "for i in range(0,len(dataset['DIFF'])):\n",
    "    if(dataset['DIFF'][i] > AVGNOV):\n",
    "        Greater_Than_AverageNOV = Greater_Than_AverageNOV + 1\n",
    "    elif(dataset['DIFF'][i] < AVGNOV):\n",
    "        Less_Than_AverageNOV = Less_Than_AverageNOV + 1\n",
    "    elif(dataset['DIFF'][i] == AVGNOV):\n",
    "        Equal_To_AverageNOV = Equal_To_AverageNOV + 1\n",
    "Percentage_Greater_Than_AverageNOV = ((Greater_Than_AverageNOV)/(Greater_Than_AverageNOV+Less_Than_AverageNOV+Equal_To_AverageNOV))*100\n",
    "Percentage_Lesser_Than_AverageNOV = ((Less_Than_AverageNOV)/(Greater_Than_AverageNOV+Less_Than_AverageNOV+Equal_To_AverageNOV))*100\n",
    "Percentage_Equal_To_AverageNOV = ((Equal_To_AverageNOV)/(Greater_Than_AverageNOV+Less_Than_AverageNOV+Equal_To_AverageNOV))*100\n",
    "print(Greater_Than_AverageNOV)\n",
    "print(Less_Than_AverageNOV)\n",
    "print(Equal_To_AverageNOV)\n",
    "print(Percentage_Greater_Than_AverageNOV)\n",
    "print(Percentage_Lesser_Than_AverageNOV)\n",
    "print(Percentage_Equal_To_AverageNOV)\n"
   ]
  },
  {
   "cell_type": "code",
   "execution_count": 49,
   "id": "0a3094c3",
   "metadata": {},
   "outputs": [
    {
     "name": "stdout",
     "output_type": "stream",
     "text": [
      "298\n",
      "392\n",
      "0\n",
      "43.188405797101446\n",
      "56.811594202898554\n",
      "0.0\n"
     ]
    }
   ],
   "source": [
    "#June\n",
    "Greater_Than_AverageJUN = 0\n",
    "Less_Than_AverageJUN = 0\n",
    "Equal_To_AverageJUN = 0\n",
    "for i in range(0,len(dataset['Jun Water Reading'])):\n",
    "    if(dataset['Jun Water Reading'][i] > AVGJUN):\n",
    "        Greater_Than_AverageJUN = Greater_Than_AverageJUN + 1\n",
    "    elif(dataset['Jun Water Reading'][i] < AVGJUN):\n",
    "        Less_Than_AverageJUN = Less_Than_AverageJUN + 1\n",
    "    elif(dataset['Jun Water Reading'][i] == AVGJUN):\n",
    "        Equal_To_AverageJUN = Equal_To_AverageJUN + 1\n",
    "Percentage_Greater_Than_AverageJUN = ((Greater_Than_AverageJUN)/(Greater_Than_AverageJUN+Less_Than_AverageJUN+Equal_To_AverageJUN))*100\n",
    "Percentage_Lesser_Than_AverageJUN = ((Less_Than_AverageJUN)/(Greater_Than_AverageJUN+Less_Than_AverageJUN+Equal_To_AverageJUN))*100\n",
    "Percentage_Equal_To_AverageJUN = ((Equal_To_AverageJUN)/(Greater_Than_AverageJUN+Less_Than_AverageJUN+Equal_To_AverageJUN))*100\n",
    "print(Greater_Than_AverageJUN)\n",
    "print(Less_Than_AverageJUN)\n",
    "print(Equal_To_AverageJUN)\n",
    "print(Percentage_Greater_Than_AverageJUN)\n",
    "print(Percentage_Lesser_Than_AverageJUN)\n",
    "print(Percentage_Equal_To_AverageJUN)\n"
   ]
  },
  {
   "cell_type": "code",
   "execution_count": null,
   "id": "1d84edfc",
   "metadata": {},
   "outputs": [],
   "source": []
  }
 ],
 "metadata": {
  "kernelspec": {
   "display_name": "Python 3 (ipykernel)",
   "language": "python",
   "name": "python3"
  },
  "language_info": {
   "codemirror_mode": {
    "name": "ipython",
    "version": 3
   },
   "file_extension": ".py",
   "mimetype": "text/x-python",
   "name": "python",
   "nbconvert_exporter": "python",
   "pygments_lexer": "ipython3",
   "version": "3.8.5"
  }
 },
 "nbformat": 4,
 "nbformat_minor": 5
}
